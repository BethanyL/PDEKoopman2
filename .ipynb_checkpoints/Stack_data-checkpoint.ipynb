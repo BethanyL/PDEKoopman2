{
 "cells": [
  {
   "cell_type": "code",
   "execution_count": 1,
   "metadata": {
    "scrolled": true
   },
   "outputs": [],
   "source": [
    "# Import necessary libraries\n",
    "import tensorflow as tf\n",
    "import numpy as np\n",
    "import helperfns\n",
    "\n",
    "import matplotlib\n",
    "import matplotlib.pyplot as plt\n",
    "from mpl_toolkits.mplot3d import Axes3D"
   ]
  },
  {
   "cell_type": "code",
   "execution_count": 2,
   "metadata": {},
   "outputs": [],
   "source": [
    "# User inputs\n",
    "data_name = 'Burgers_Eqn_exp28'  # Prefix of data files"
   ]
  },
  {
   "cell_type": "code",
   "execution_count": 17,
   "metadata": {},
   "outputs": [
    {
     "name": "stdout",
     "output_type": "stream",
     "text": [
      "./data/Burgers_Eqn_exp28_train1_x.npy\n",
      "./data/Burgers_Eqn_exp28_train2_x.npy\n",
      "./data/Burgers_Eqn_exp28_train3_x.npy\n",
      "./data/Burgers_Eqn_exp28_train4_x.npy\n",
      "./data/Burgers_Eqn_exp28_train5_x.npy\n",
      "./data/Burgers_Eqn_exp28_train6_x.npy\n",
      "./data/Burgers_Eqn_exp28_train7_x.npy\n",
      "./data/Burgers_Eqn_exp28_train8_x.npy\n",
      "./data/Burgers_Eqn_exp28_train9_x.npy\n",
      "./data/Burgers_Eqn_exp28_train10_x.npy\n",
      "./data/Burgers_Eqn_exp28_train11_x.npy\n",
      "./data/Burgers_Eqn_exp28_train12_x.npy\n",
      "./data/Burgers_Eqn_exp28_train13_x.npy\n",
      "./data/Burgers_Eqn_exp28_train14_x.npy\n",
      "./data/Burgers_Eqn_exp28_train15_x.npy\n",
      "./data/Burgers_Eqn_exp28_train16_x.npy\n",
      "./data/Burgers_Eqn_exp28_train17_x.npy\n",
      "./data/Burgers_Eqn_exp28_train18_x.npy\n",
      "./data/Burgers_Eqn_exp28_train19_x.npy\n",
      "./data/Burgers_Eqn_exp28_train20_x.npy\n"
     ]
    }
   ],
   "source": [
    "data_train_len = 20\n",
    "for k in range(1,data_train_len+1):\n",
    "    data_file = \"./data/{}_train{}_x.npy\".format(data_name, k)\n",
    "    print(data_file)\n",
    "    data = np.load(data_file)\n",
    "    data_tensor = helperfns.stack_data(data, 50, 51)\n",
    "    reshaped_data = np.transpose(data_tensor, (1,0,2))\n",
    "    reshaped_data = reshaped_data.astype(np.float32)\n",
    "    np.save(data_file, reshaped_data, allow_pickle=False)"
   ]
  },
  {
   "cell_type": "code",
   "execution_count": 22,
   "metadata": {},
   "outputs": [
    {
     "name": "stdout",
     "output_type": "stream",
     "text": [
      "./data/Burgers_Eqn_exp28_val_x.npy\n"
     ]
    }
   ],
   "source": [
    "data_file = \"./data/{}_val_x.npy\".format(data_name)\n",
    "print(data_file)\n",
    "data = np.load(data_file)\n",
    "data_tensor = helperfns.stack_data(data, 50, 51)\n",
    "reshaped_data = np.transpose(data_tensor, (1,0,2))\n",
    "reshaped_data = reshaped_data.astype(np.float32)\n",
    "np.save(data_file, reshaped_data, allow_pickle=False)"
   ]
  },
  {
   "cell_type": "code",
   "execution_count": 24,
   "metadata": {},
   "outputs": [
    {
     "name": "stdout",
     "output_type": "stream",
     "text": [
      "./data/Burgers_Eqn_exp28_test1_x.npy\n",
      "./data/Burgers_Eqn_exp28_test2_x.npy\n",
      "./data/Burgers_Eqn_exp28_test3_x.npy\n",
      "./data/Burgers_Eqn_exp28_test4_x.npy\n",
      "./data/Burgers_Eqn_exp28_test5_x.npy\n"
     ]
    }
   ],
   "source": [
    "data_test_len = 5\n",
    "for k in range(1,data_test_len+1):\n",
    "    data_file = \"./data/{}_test{}_x.npy\".format(data_name, k)\n",
    "    print(data_file)\n",
    "    data = np.load(data_file)\n",
    "    data_tensor = helperfns.stack_data(data, 50, 51)\n",
    "    reshaped_data = np.transpose(data_tensor, (1,0,2))\n",
    "    reshaped_data = reshaped_data.astype(np.float32)\n",
    "    np.save(data_file, reshaped_data, allow_pickle=False)"
   ]
  },
  {
   "cell_type": "markdown",
   "metadata": {},
   "source": [
    "# Inputs to the network:\n",
    "\n",
    "Note: the data has shape: (len_time, num_examples, state_dimension)\n",
    "\n",
    "1. The 3D tensor with the data (no stacking required) - for autoencoder and outer autoencoder losses\n",
    "2. A 3D tensor for prediction: (len_time-num_shifts, num_examples, state_dimension)\n",
    "3. A 3D tensor for linearity loss: (len_time-num_shifts_middle, num_examples, state_dimension)"
   ]
  },
  {
   "cell_type": "markdown",
   "metadata": {},
   "source": [
    "# Outputs of the network:\n",
    "\n",
    "1. The 3D tensor with the data - for autoencoder loss\n",
    "2. The 3D tensor with the predictions: (num_shifts, (len_time-num_shifts)*num_examples, state_dimension) \n",
    "3. The 3D tensor with the data - for outer autoencoder loss"
   ]
  },
  {
   "cell_type": "markdown",
   "metadata": {},
   "source": [
    "# Internal Losses\n",
    "\n",
    "1. Inner autoencoder - Can do with the original data\n",
    "2. Linearity loss - Need to stack internally: match prediction but with num_shifts_middle"
   ]
  },
  {
   "cell_type": "markdown",
   "metadata": {},
   "source": [
    "# New Strategy\n",
    "\n",
    "## Inputs to the network\n",
    "1. 3D tensor with shape (num_examples, len_time, state_dimension)\n",
    "\n",
    "## Outputs to the newtork\n",
    "1. 3D tensor with autoencoder output with shape (num_examples, len_time, state_dimension)\n",
    "2. 3D tensor with outer autoencoder output with shape (num_examples, len_time, state_dimension)\n",
    "3. 3D tensor with predictions with shape (num_shifts, (len_time-num_shifts)*num_examples, state_dimension)\n",
    "\n",
    "Does 3 need to change to (num_examples, num_shifts*(len_time-num_shifts), state_dimension)?\n",
    "\n",
    "## Internal Losses\n",
    "1. 3D tensor with inner autoencoder output with shape (num_examples, len_time, latent_dimension)\n",
    "2. 3D tensor with linearity predictions with shape (num_shifts_middle, (len_time-num_shifts_middle)*num_examples, latent_dimension)\n",
    "\n",
    "For 1, need to reshape back to 3D\n",
    "For 2, do we need to reshape like for predictions above?"
   ]
  },
  {
   "cell_type": "code",
   "execution_count": null,
   "metadata": {},
   "outputs": [],
   "source": []
  }
 ],
 "metadata": {
  "kernelspec": {
   "display_name": "NODE2",
   "language": "python",
   "name": "node2"
  },
  "language_info": {
   "codemirror_mode": {
    "name": "ipython",
    "version": 3
   },
   "file_extension": ".py",
   "mimetype": "text/x-python",
   "name": "python",
   "nbconvert_exporter": "python",
   "pygments_lexer": "ipython3",
   "version": "3.8.5"
  }
 },
 "nbformat": 4,
 "nbformat_minor": 2
}
